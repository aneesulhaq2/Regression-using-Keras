{
  "cells": [
    {
      "cell_type": "code",
      "execution_count": null,
      "id": "d8b51689",
      "metadata": {
        "id": "d8b51689"
      },
      "outputs": [],
      "source": [
        "import pandas\n",
        "import numpy as np\n",
        "from keras.models import Sequential\n",
        "from keras.layers import Dense\n",
        "from keras.wrappers.scikit_learn import KerasRegressor\n",
        "from sklearn.model_selection import cross_val_score\n",
        "from sklearn.model_selection import KFold\n",
        "from sklearn.preprocessing import StandardScaler\n",
        "from sklearn.pipeline import Pipeline"
      ]
    },
    {
      "cell_type": "code",
      "execution_count": null,
      "id": "9fe7a3c6",
      "metadata": {
        "id": "9fe7a3c6"
      },
      "outputs": [],
      "source": [
        "dataframe = pandas.read_csv(\"/content/Housing_csv\",header = None)"
      ]
    },
    {
      "cell_type": "code",
      "execution_count": null,
      "id": "a9168f57",
      "metadata": {
        "id": "a9168f57"
      },
      "outputs": [],
      "source": [
        "dataset = dataframe.values\n",
        "#Y = dataset[1:,0]\n",
        "#X = dataset[1:,1:13]\n",
        "X = dataframe.iloc[:,0:13]\n",
        "#print(X.head())\n",
        "Y = dataframe.iloc[:,13]\n",
        "#print(Y.head())"
      ]
    },
    {
      "cell_type": "code",
      "execution_count": null,
      "id": "32591495",
      "metadata": {
        "id": "32591495"
      },
      "outputs": [],
      "source": [
        "def baseline_model():\n",
        "    model = Sequential()\n",
        "    model.add(Dense(13,input_dim = 13,kernel_initializer = 'normal',activation = 'relu'))\n",
        "    model.add(Dense(1,kernel_initializer = 'normal'))\n",
        "    model.compile(loss = 'mean_squared_error',optimizer = 'adam')\n",
        "    return model"
      ]
    },
    {
      "cell_type": "code",
      "execution_count": null,
      "id": "34b7fd68",
      "metadata": {
        "id": "34b7fd68"
      },
      "outputs": [],
      "source": [
        "# fix random seed for reproducibility\n",
        "seed = 7\n",
        "np.random.seed(seed)\n",
        "# evaluate model with standardized dataset\n",
        "estimator = KerasRegressor(build_fn=baseline_model, nb_epoch=100, batch_size=5, verbose=0)"
      ]
    },
    {
      "cell_type": "code",
      "execution_count": null,
      "id": "6f035443",
      "metadata": {
        "id": "6f035443",
        "outputId": "db133dd0-bfe0-442b-979c-083c5ae34b18"
      },
      "outputs": [
        {
          "name": "stdout",
          "output_type": "stream",
          "text": [
            "Results: -136.01 (102.90) MSE\n"
          ]
        }
      ],
      "source": [
        "kfold = KFold(n_splits=10)\n",
        "results = cross_val_score(estimator, X.values, Y.values, cv=kfold,n_jobs  =1)\n",
        "print(\"Results: %.2f (%.2f) MSE\" % (results.mean(), results.std()))"
      ]
    }
  ],
  "metadata": {
    "kernelspec": {
      "display_name": "Python 3 (ipykernel)",
      "language": "python",
      "name": "python3"
    },
    "language_info": {
      "codemirror_mode": {
        "name": "ipython",
        "version": 3
      },
      "file_extension": ".py",
      "mimetype": "text/x-python",
      "name": "python",
      "nbconvert_exporter": "python",
      "pygments_lexer": "ipython3",
      "version": "3.9.12"
    },
    "colab": {
      "provenance": []
    }
  },
  "nbformat": 4,
  "nbformat_minor": 5
}